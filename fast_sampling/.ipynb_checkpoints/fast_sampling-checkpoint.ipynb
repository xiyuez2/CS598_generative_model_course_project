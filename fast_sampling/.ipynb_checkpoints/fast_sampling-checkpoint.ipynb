{
 "cells": [
  {
   "cell_type": "code",
   "execution_count": 5,
   "metadata": {
    "pycharm": {
     "name": "#%%\n"
    }
   },
   "outputs": [
    {
     "name": "stdout",
     "output_type": "stream",
     "text": [
      "  0%|                                                    | 0/10 [00:00<?, ?it/s]/opt/conda/lib/python3.8/site-packages/torch/nn/functional.py:3614: UserWarning: Default upsampling behavior when mode=trilinear is changed to align_corners=False since 0.4.0. Please specify align_corners=True if the old behavior is desired. See the documentation of nn.Upsample for details.\n",
      "  warnings.warn(\n",
      "100%|███████████████████████████████████████████| 10/10 [00:09<00:00,  1.10it/s]\n",
      "100%|███████████████████████████████████████████| 10/10 [00:07<00:00,  1.29it/s]\n",
      "100%|███████████████████████████████████████████| 10/10 [00:07<00:00,  1.29it/s]\n",
      "100%|███████████████████████████████████████████| 10/10 [00:07<00:00,  1.29it/s]\n",
      "100%|███████████████████████████████████████████| 10/10 [00:07<00:00,  1.29it/s]\n",
      "100%|███████████████████████████████████████████| 10/10 [00:07<00:00,  1.29it/s]\n",
      "100%|███████████████████████████████████████████| 10/10 [00:07<00:00,  1.29it/s]\n",
      "100%|███████████████████████████████████████████| 10/10 [00:07<00:00,  1.29it/s]\n",
      "100%|███████████████████████████████████████████| 10/10 [00:07<00:00,  1.29it/s]\n",
      "100%|███████████████████████████████████████████| 10/10 [00:07<00:00,  1.29it/s]\n",
      " 10%|████▍                                       | 1/10 [00:00<00:07,  1.29it/s]^C\n"
     ]
    }
   ],
   "source": [
    "!python ./inference_ddpm.py"
   ]
  },
  {
   "cell_type": "code",
   "execution_count": 11,
   "metadata": {
    "pycharm": {
     "name": "#%%\n"
    }
   },
   "outputs": [
    {
     "name": "stdout",
     "output_type": "stream",
     "text": [
      "100%|███████████████████████████████████████████| 10/10 [00:11<00:00,  1.15s/it]\n",
      "(192, 192, 96)\n",
      "Results saved to ./results/plms_16steps/\n"
     ]
    }
   ],
   "source": [
    "!python ./inference_plms.py"
   ]
  },
  {
   "cell_type": "code",
   "execution_count": 15,
   "metadata": {
    "pycharm": {
     "name": "#%%\n"
    }
   },
   "outputs": [
    {
     "name": "stdout",
     "output_type": "stream",
     "text": [
      "(192, 192, 96)\n",
      "Results saved to ./results/deis_10steps/\n"
     ]
    }
   ],
   "source": [
    "!JAX_PLATFORM_NAME=CPU python3 ./inference_deis.py"
   ]
  },
  {
   "cell_type": "code",
   "execution_count": null,
   "metadata": {},
   "outputs": [],
   "source": []
  }
 ],
 "metadata": {
  "kernelspec": {
   "display_name": "Python 3 (ipykernel)",
   "language": "python",
   "name": "python3"
  },
  "language_info": {
   "codemirror_mode": {
    "name": "ipython",
    "version": 3
   },
   "file_extension": ".py",
   "mimetype": "text/x-python",
   "name": "python",
   "nbconvert_exporter": "python",
   "pygments_lexer": "ipython3",
   "version": "3.8.10"
  }
 },
 "nbformat": 4,
 "nbformat_minor": 1
}
